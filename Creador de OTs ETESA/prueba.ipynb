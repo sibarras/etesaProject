{
 "metadata": {
  "language_info": {
   "codemirror_mode": {
    "name": "ipython",
    "version": 3
   },
   "file_extension": ".py",
   "mimetype": "text/x-python",
   "name": "python",
   "nbconvert_exporter": "python",
   "pygments_lexer": "ipython3",
   "version": "3.9.1-final"
  },
  "orig_nbformat": 2,
  "kernelspec": {
   "name": "python3",
   "display_name": "Python 3.9.1 64-bit ('env')",
   "metadata": {
    "interpreter": {
     "hash": "a670d17388f061eb2e81e959d50bdafeac06f69c9bd685a15fe3c7ddb306619b"
    }
   }
  }
 },
 "nbformat": 4,
 "nbformat_minor": 2,
 "cells": [
  {
   "cell_type": "code",
   "execution_count": 2,
   "metadata": {},
   "outputs": [],
   "source": [
    "import pandas as pd\n",
    "from works_example import works"
   ]
  },
  {
   "cell_type": "code",
   "execution_count": 3,
   "metadata": {},
   "outputs": [
    {
     "output_type": "stream",
     "name": "stdout",
     "text": [
      "\ntitulo: Inspección Termográfica en Subestación Panamá II\nlibranza: \not: \nubiacion: Panamá II\ntipo: MPD\nclasificacion: PMA\ncuenta: 1.51121200.0601.430403.430403.0.0000.0.0000\nprioridad: 1\ninicio: 02/15/2021 10:30 AM\nduracion: 4:00\nsupervisor: JBMARTINEZ\nmano_de_obra: ['sibarra', 'mperez']\nherramientas: TERMOGRAFIA\n\ntitulo: Inspección Termográfica en Subestación Panamá II\nlibranza: \not: \nubiacion: Panamá II\ntipo: MPD\nclasificacion: PMA\ncuenta: 1.51121200.0601.430403.430403.0.0000.0.0000\nprioridad: 1\ninicio: 02/15/2021 10:30 AM\nduracion: 4:00\nsupervisor: JBMARTINEZ\nmano_de_obra: ['sibarra', 'mperez']\nherramientas: TERMOGRAFIA\n\ntitulo: Inspección Termográfica en Subestación Panamá II\nlibranza: \not: \nubiacion: Panamá II\ntipo: MPD\nclasificacion: PMA\ncuenta: 1.51121200.0601.430403.430403.0.0000.0.0000\nprioridad: 1\ninicio: 02/15/2021 10:30 AM\nduracion: 4:00\nsupervisor: JBMARTINEZ\nmano_de_obra: ['sibarra', 'mperez']\nherramientas: TERMOGRAFIA\n\ntitulo: Inspección Termográfica en Subestación Panamá II\nlibranza: \not: \nubiacion: Panamá II\ntipo: MPD\nclasificacion: PMA\ncuenta: 1.51121200.0601.430403.430403.0.0000.0.0000\nprioridad: 1\ninicio: 02/15/2021 10:30 AM\nduracion: 4:00\nsupervisor: JBMARTINEZ\nmano_de_obra: ['sibarra', 'mperez']\nherramientas: TERMOGRAFIA\n\ntitulo: Inspección Termográfica en Subestación Panamá II\nlibranza: \not: \nubiacion: Panamá II\ntipo: MPD\nclasificacion: PMA\ncuenta: 1.51121200.0601.430403.430403.0.0000.0.0000\nprioridad: 1\ninicio: 02/15/2021 10:30 AM\nduracion: 4:00\nsupervisor: JBMARTINEZ\nmano_de_obra: ['sibarra', 'mperez']\nherramientas: TERMOGRAFIA\n"
     ]
    }
   ],
   "source": [
    "for i in range(4):\n",
    "    works.append(works[0])\n",
    "\n",
    "for work in works:\n",
    "    print()\n",
    "    for name, val in work.__dict__.items():\n",
    "        print(f'{name}: {val}')"
   ]
  },
  {
   "cell_type": "code",
   "execution_count": 4,
   "metadata": {},
   "outputs": [],
   "source": [
    "df = pd.DataFrame([work.__dict__ for work in works])"
   ]
  },
  {
   "cell_type": "code",
   "execution_count": 5,
   "metadata": {},
   "outputs": [
    {
     "output_type": "stream",
     "name": "stdout",
     "text": [
      "                                             titulo libranza ot   ubiacion  \\\n0  Inspección Termográfica en Subestación Panamá II              Panamá II   \n1  Inspección Termográfica en Subestación Panamá II              Panamá II   \n2  Inspección Termográfica en Subestación Panamá II              Panamá II   \n3  Inspección Termográfica en Subestación Panamá II              Panamá II   \n4  Inspección Termográfica en Subestación Panamá II              Panamá II   \n\n  tipo clasificacion                                       cuenta prioridad  \\\n0  MPD           PMA  1.51121200.0601.430403.430403.0.0000.0.0000         1   \n1  MPD           PMA  1.51121200.0601.430403.430403.0.0000.0.0000         1   \n2  MPD           PMA  1.51121200.0601.430403.430403.0.0000.0.0000         1   \n3  MPD           PMA  1.51121200.0601.430403.430403.0.0000.0.0000         1   \n4  MPD           PMA  1.51121200.0601.430403.430403.0.0000.0.0000         1   \n\n                inicio duracion  supervisor       mano_de_obra herramientas  \n0  02/15/2021 10:30 AM     4:00  JBMARTINEZ  [sibarra, mperez]  TERMOGRAFIA  \n1  02/15/2021 10:30 AM     4:00  JBMARTINEZ  [sibarra, mperez]  TERMOGRAFIA  \n2  02/15/2021 10:30 AM     4:00  JBMARTINEZ  [sibarra, mperez]  TERMOGRAFIA  \n3  02/15/2021 10:30 AM     4:00  JBMARTINEZ  [sibarra, mperez]  TERMOGRAFIA  \n4  02/15/2021 10:30 AM     4:00  JBMARTINEZ  [sibarra, mperez]  TERMOGRAFIA  \n"
     ]
    }
   ],
   "source": [
    "print(df)"
   ]
  },
  {
   "cell_type": "code",
   "execution_count": null,
   "metadata": {},
   "outputs": [],
   "source": []
  }
 ]
}