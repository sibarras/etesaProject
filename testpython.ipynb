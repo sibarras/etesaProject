{
 "metadata": {
  "language_info": {
   "codemirror_mode": {
    "name": "ipython",
    "version": 3
   },
   "file_extension": ".py",
   "mimetype": "text/x-python",
   "name": "python",
   "nbconvert_exporter": "python",
   "pygments_lexer": "ipython3",
   "version": "3.7.4-final"
  },
  "orig_nbformat": 2,
  "kernelspec": {
   "name": "python37464bitvenvvenv20b75b75647e464e8ff4f4471bf43b73",
   "display_name": "Python 3.7.4 64-bit ('venv': venv)"
  }
 },
 "nbformat": 4,
 "nbformat_minor": 2,
 "cells": [
  {
   "cell_type": "code",
   "execution_count": 76,
   "metadata": {},
   "outputs": [],
   "source": [
    "from openpyxl import load_workbook\n",
    "PATH = './Excel Books/'"
   ]
  },
  {
   "cell_type": "code",
   "execution_count": 77,
   "metadata": {},
   "outputs": [],
   "source": [
    "#abro el segundo archivo y lo declaro como accounts workbook\n",
    "accounts_filename = 'accounts_PyM.xlsx'\n",
    "accounts_wb = load_workbook(PATH + accounts_filename, data_only=True)"
   ]
  },
  {
   "cell_type": "code",
   "execution_count": 79,
   "metadata": {
    "tags": []
   },
   "outputs": [],
   "source": [
    "# Abro la hoja de Cuentas de ETESA\n",
    "accounts_ws = accounts_wb['CUENTAS ETESA']\n",
    "\n",
    "# Para observar las hojas dentro de un workbook\n",
    "#accounts_wb.get_sheet_names()\n",
    "\n",
    "# Otra forma de abrir las hojas\n",
    "# accounts_ws2 = accounts_wb.get_sheet_by_name('CUENTAS ETESA')\n"
   ]
  },
  {
   "cell_type": "code",
   "execution_count": 80,
   "metadata": {
    "tags": []
   },
   "outputs": [
    {
     "output_type": "stream",
     "name": "stdout",
     "text": "[['SIT', 'UNID.', 'UBC', 'TIPO', 'UBICAC', 'CENTRO DE COSTO', 'DESCRIPCION DEL CENTRO DE COSTO', 'CUENTA CONTABLE']]\n"
    }
   ],
   "source": [
    "# Creo mi encabezado para mi lista de cuentas\n",
    "account_list = []\n",
    "account_list.append([])\n",
    "for col in accounts_ws['4:4'][1:]:\n",
    "    account_list[-1].append(col.value)\n",
    "print(account_list)"
   ]
  },
  {
   "cell_type": "code",
   "execution_count": 84,
   "metadata": {
    "tags": []
   },
   "outputs": [],
   "source": [
    "# Filtrado por el valor de la columna Tipo\n",
    "coord_index = account_list[0].index('TIPO') + 1\n",
    "cost_index = account_list[0].index('CENTRO DE COSTO') + 1\n",
    "for row in accounts_ws.rows:\n",
    "    if row[coord_index].value == 'MED' and 'PM-MED-' in str(row[cost_index].value):\n",
    "        account_list.append([])\n",
    "        for box in row[1:]:\n",
    "            account_list[-1].append(box.value)\n",
    "\n",
    "# Para ver los datos de la lista\n",
    "# for row in account_list:\n",
    "#     print()\n",
    "#     for col in row:\n",
    "#         print(col, end='\\t')\n"
   ]
  },
  {
   "cell_type": "code",
   "execution_count": 83,
   "metadata": {},
   "outputs": [],
   "source": [
    "place_data = {}\n",
    "place_listindex = account_list[0].index('UBICAC')\n",
    "for place in account_list:\n",
    "    place_data[place[place_listindex]] = place\n"
   ]
  },
  {
   "cell_type": "code",
   "execution_count": null,
   "metadata": {},
   "outputs": [],
   "source": [
    "# Otros datos a utilizar\n",
    "tests = [\n",
    "    'Tiempos de Operacion',         #0\n",
    "    'Resistencia de Contacto',      #1\n",
    "    'Resistencia de Aislamiento',   #2\n",
    "    'Resistencia de Devanados',     #3\n",
    "    'Relacion de Vueltas',          #4\n",
    "    'Factor de Potencia',           #5\n",
    "    'Analisis de Gas SF6',          #6\n",
    "    'Analis de Calidad de Energia', #7\n",
    "    'Corriente de Excitacion',      #8\n",
    "    'Saturacion'                    #9\n",
    "    'Alarmas',                      #10\n",
    "    'Disparos',                     #11\n",
    "    'Bloqueos',                     #12\n",
    "    'Tratamiento de gas SF6',       #13 \n",
    "]\n",
    "equipmentTests = {\n",
    "    'PT': [tests[i] for i in [5, 2]],\n",
    "    'CT': [tests[i] for i in [2, 3, 4, 5, 8, 9]],\n",
    "    'INT': [tests[i] for i in [0, 1, 6, 10, 12]],\n",
    "    'TX': [tests[i] for i in [5, 8, 4, 3, 10, 11]],\n",
    "    'RX': [tests[i] for i in [5, 10, 11]]\n",
    "}"
   ]
  },
  {
   "cell_type": "code",
   "execution_count": 102,
   "metadata": {},
   "outputs": [
    {
     "output_type": "execute_result",
     "data": {
      "text/plain": "['EXTRAS', 'DISTRIBUCION']"
     },
     "metadata": {},
     "execution_count": 102
    }
   ],
   "source": [
    "# Abro el primer archivo y lo declaro como payroll workbook\n",
    "payroll_filename = 'payroll_layout.xlsx'\n",
    "payroll_wb = load_workbook(PATH + payroll_filename)"
   ]
  },
  {
   "cell_type": "code",
   "execution_count": 103,
   "metadata": {},
   "outputs": [],
   "source": [
    "# Para la distribucion del tiempo\n",
    "distribution_ws = payroll_wb['DISTRIBUCION']\n",
    "\n",
    "# Para las horas extras\n",
    "extra_ws = payroll_wb['EXTRAS']"
   ]
  },
  {
   "cell_type": "code",
   "execution_count": null,
   "metadata": {},
   "outputs": [],
   "source": []
  }
 ]
}